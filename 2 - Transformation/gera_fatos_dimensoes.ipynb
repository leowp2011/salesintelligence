{
 "cells": [
  {
   "cell_type": "markdown",
   "id": "774d2dd5",
   "metadata": {},
   "source": [
    "\"\"\"\n",
    "Created on Sat Jun 29 2025\n",
    "Modified on Sat Jun 29 2025\n",
    "\n",
    "@author: leowp2011\n",
    "https://github.com/leowp2011/salesintelligence\n",
    "\n",
    "Rotina:\n",
    "    - Carrega a base de vendas internas (clientes reais da empresa);\n",
    "    - Conecta à base pública da Receita Federal em SQLite (`cnpj.db`);\n",
    "    - Identifica empresas com CNAEs compatíveis (primários e/ou secundários);\n",
    "    - Gera a tabela fato `f_empresas_potenciais` com os seguintes indicadores:\n",
    "        • cliente_atual (se já comprou)\n",
    "        • possui_cnae_alvo_primario (match CNAE primário)\n",
    "        • possui_cnae_alvo_secundario (match CNAE secundário)\n",
    "        • possui_lead (caso haja leads externos disponíveis)\n",
    "    - Enriquecer com:\n",
    "        • Seção CNAE (letra + descrição)\n",
    "        • Município\n",
    "    - Salva as tabelas finais (fato e dimensões) em um novo banco SQLite (`gold_base_powerbi.db`) pronto para consumo no Power BI.\n",
    "\n",
    "Observações:\n",
    "    - Requer que a base `cnpj.db` esteja previamente gerada (veja https://github.com/rictom/cnpj-sqlite)\n",
    "    - Arquivo de vendas deve estar disponível na pasta raiz, pois é com base neste arquivo que o estudo é feito (`../vendas.csv`)\n",
    "\n",
    "Dependências:\n",
    "    - pandas\n",
    "    - sqlite3\n",
    "\"\"\"\n"
   ]
  },
  {
   "cell_type": "code",
   "execution_count": 9,
   "id": "de5e3031",
   "metadata": {},
   "outputs": [],
   "source": [
    "import pandas as pd, sqlite3, sqlalchemy"
   ]
  },
  {
   "cell_type": "code",
   "execution_count": 10,
   "id": "4e81a81b",
   "metadata": {},
   "outputs": [],
   "source": [
    "vendas = pd.read_csv(\"../inputs/vendas.csv\", dtype={\"cnpj\": str})\n",
    "clientes_cnpjs = vendas[\"cnpj\"].dropna().unique().tolist()"
   ]
  },
  {
   "cell_type": "code",
   "execution_count": 11,
   "id": "775cfd0e",
   "metadata": {},
   "outputs": [],
   "source": [
    "conn = sqlite3.connect(\"../1 - Extract & Load/dados-publicos/cnpj.db\")"
   ]
  },
  {
   "cell_type": "code",
   "execution_count": 12,
   "id": "f72d72fd",
   "metadata": {},
   "outputs": [],
   "source": [
    "# CNAEs primários dos clientes\n",
    "cnaes_primarios = pd.read_sql(\n",
    "    f\"SELECT DISTINCT cnae_fiscal FROM estabelecimento WHERE cnpj IN ({','.join(['?'] * len(clientes_cnpjs))})\",\n",
    "    conn, params=clientes_cnpjs)[\"cnae_fiscal\"].dropna().unique().tolist()\n",
    "\n",
    "# CNAEs secundários dos clientes\n",
    "cnaes_secundarios = pd.read_sql(\n",
    "    f\"SELECT DISTINCT cnae_fiscal_secundaria FROM cnae_secundaria WHERE cnpj IN ({','.join(['?'] * len(clientes_cnpjs))})\",\n",
    "    conn, params=clientes_cnpjs)[\"cnae_fiscal_secundaria\"].dropna().unique().tolist()\n",
    "\n",
    "cnaes_alvo = list(set(cnaes_primarios + cnaes_secundarios))"
   ]
  },
  {
   "cell_type": "code",
   "execution_count": 13,
   "id": "8959e9d0",
   "metadata": {},
   "outputs": [],
   "source": [
    "# CNAE primário\n",
    "empresas_primario = pd.read_sql(\n",
    "    f\"\"\"\n",
    "    SELECT cnpj, municipio, cnae_fiscal, cnpj_basico\n",
    "    FROM estabelecimento \n",
    "    WHERE cnae_fiscal IN ({','.join(['?'] * len(cnaes_alvo))})\n",
    "      AND situacao_cadastral = '02'\n",
    "    \"\"\",\n",
    "    conn, params=cnaes_alvo)\n",
    "\n",
    "# CNAE secundário\n",
    "empresas_secundario = pd.read_sql(\n",
    "    f\"SELECT DISTINCT cnpj FROM cnae_secundaria WHERE cnae_fiscal_secundaria IN ({','.join(['?'] * len(cnaes_alvo))})\",\n",
    "    conn, params=cnaes_alvo)\n"
   ]
  },
  {
   "cell_type": "code",
   "execution_count": 14,
   "id": "1f56bebb",
   "metadata": {},
   "outputs": [],
   "source": [
    "todos_cnpjs = list(set(empresas_primario[\"cnpj\"].tolist() + empresas_secundario[\"cnpj\"].tolist()))\n",
    "fato = pd.DataFrame({\"cnpj\": todos_cnpjs})\n",
    "\n",
    "# Enriquecer com dados da tabela de empresas primárias\n",
    "fato = fato.merge(empresas_primario[[\"cnpj\", \"municipio\", \"cnae_fiscal\", \"cnpj_basico\"]], on=\"cnpj\", how=\"left\")\n",
    "\n",
    "# Renomear para manter consistência com dimensões\n",
    "fato.rename(columns={\n",
    "    \"municipio\": \"codigo_municipio\",\n",
    "    \"cnae_fiscal\": \"codigo_cnae\",\n",
    "    \"cnpj_basico\": \"raiz_cnpj\"\n",
    "}, inplace=True)\n",
    "\n",
    "fato[\"cliente_saur\"] = fato[\"cnpj\"].isin(clientes_cnpjs).astype(int)\n",
    "fato[\"possui_cnae_alvo_primario\"] = fato[\"cnpj\"].isin(empresas_primario[\"cnpj\"]).astype(int)\n",
    "fato[\"possui_cnae_alvo_secundario\"] = fato[\"cnpj\"].isin(empresas_secundario[\"cnpj\"]).astype(int)\n",
    "fato[\"possui_lead\"] = 0  # você pode popular isso mais tarde\n"
   ]
  },
  {
   "cell_type": "code",
   "execution_count": 15,
   "id": "db061475",
   "metadata": {},
   "outputs": [],
   "source": [
    "municipio = pd.read_sql(\"SELECT * FROM municipio\", conn)\n",
    "cnae = pd.read_sql(\"SELECT codigo, descricao FROM cnae\", conn)\n",
    "\n",
    "# Extrair divisão a partir dos 2 primeiros dígitos do código\n",
    "cnae[\"divisao\"] = cnae[\"codigo\"].astype(str).str[:2].astype(int)\n",
    "\n",
    "# Função de mapeamento para seção\n",
    "def mapear_secao(div):\n",
    "    if 1 <= div <= 3:\n",
    "        return 'A', 'AGRICULTURA, PECUÁRIA, PRODUÇÃO FLORESTAL, PESCA E AQÜICULTURA'\n",
    "    elif 5 <= div <= 9:\n",
    "        return 'B', 'INDÚSTRIAS EXTRATIVAS'\n",
    "    elif 10 <= div <= 33:\n",
    "        return 'C', 'INDÚSTRIAS DE TRANSFORMAÇÃO'\n",
    "    elif div == 35:\n",
    "        return 'D', 'ELETRICIDADE E GÁS'\n",
    "    elif 36 <= div <= 39:\n",
    "        return 'E', 'ÁGUA, ESGOTO, ATIVIDADES DE GESTÃO DE RESÍDUOS E DESCONTAMINAÇÃO'\n",
    "    elif 41 <= div <= 43:\n",
    "        return 'F', 'CONSTRUÇÃO'\n",
    "    elif 45 <= div <= 47:\n",
    "        return 'G', 'COMÉRCIO; REPARAÇÃO DE VEÍCULOS AUTOMOTORES E MOTOCICLETAS'\n",
    "    elif 49 <= div <= 53:\n",
    "        return 'H', 'TRANSPORTE, ARMAZENAGEM E CORREIO'\n",
    "    elif 55 <= div <= 56:\n",
    "        return 'I', 'ALOJAMENTO E ALIMENTAÇÃO'\n",
    "    elif 58 <= div <= 63:\n",
    "        return 'J', 'INFORMAÇÃO E COMUNICAÇÃO'\n",
    "    elif 64 <= div <= 66:\n",
    "        return 'K', 'ATIVIDADES FINANCEIRAS, DE SEGUROS E SERVIÇOS RELACIONADOS'\n",
    "    elif div == 68:\n",
    "        return 'L', 'ATIVIDADES IMOBILIÁRIAS'\n",
    "    elif 69 <= div <= 75:\n",
    "        return 'M', 'ATIVIDADES PROFISSIONAIS, CIENTÍFICAS E TÉCNICAS'\n",
    "    elif 77 <= div <= 82:\n",
    "        return 'N', 'ATIVIDADES ADMINISTRATIVAS E SERVIÇOS COMPLEMENTARES'\n",
    "    elif div == 84:\n",
    "        return 'O', 'ADMINISTRAÇÃO PÚBLICA, DEFESA E SEGURIDADE SOCIAL'\n",
    "    elif div == 85:\n",
    "        return 'P', 'EDUCAÇÃO'\n",
    "    elif 86 <= div <= 88:\n",
    "        return 'Q', 'SAÚDE HUMANA E SERVIÇOS SOCIAIS'\n",
    "    elif 90 <= div <= 93:\n",
    "        return 'R', 'ARTES, CULTURA, ESPORTE E RECREAÇÃO'\n",
    "    elif 94 <= div <= 96:\n",
    "        return 'S', 'OUTRAS ATIVIDADES DE SERVIÇOS'\n",
    "    elif div == 97:\n",
    "        return 'T', 'SERVIÇOS DOMÉSTICOS'\n",
    "    elif div == 99:\n",
    "        return 'U', 'ORGANISMOS INTERNACIONAIS E OUTRAS INSTITUIÇÕES EXTRATERRITORIAIS'\n",
    "    else:\n",
    "        return None, None\n",
    "\n",
    "# Aplicar o mapeamento\n",
    "cnae[['sigla_secao', 'desc_secao']] = cnae['divisao'].apply(lambda x: pd.Series(mapear_secao(x)))\n",
    "\n",
    "# Criar a dimensão final\n",
    "dim_cnae = cnae[['codigo', 'descricao', 'sigla_secao', 'desc_secao']]\n"
   ]
  },
  {
   "cell_type": "code",
   "execution_count": 16,
   "id": "36812c9b",
   "metadata": {},
   "outputs": [
    {
     "data": {
      "text/plain": [
       "5572"
      ]
     },
     "execution_count": 16,
     "metadata": {},
     "output_type": "execute_result"
    }
   ],
   "source": [
    "# Caminho para o banco final\n",
    "conn_gold = sqlite3.connect(\"../outputs/gold.db\")\n",
    "\n",
    "# Salvar a tabela fato\n",
    "fato.to_sql(\"fato_empresas\", conn_gold, if_exists=\"replace\", index=False)\n",
    "\n",
    "# Salvar a dimensão CNAE\n",
    "dim_cnae.to_sql(\"dim_cnae\", conn_gold, if_exists=\"replace\", index=False)\n",
    "\n",
    "# Salvar a dimensão Município, se for necessária para join no Power BI\n",
    "municipio.to_sql(\"dim_municipio\", conn_gold, if_exists=\"replace\", index=False)\n",
    "\n"
   ]
  },
  {
   "cell_type": "code",
   "execution_count": 17,
   "id": "21a6c3cc",
   "metadata": {},
   "outputs": [],
   "source": [
    "# Criar índice na coluna cnpj\n",
    "with conn_gold:\n",
    "    conn_gold.execute(\"CREATE INDEX idx_fato_empresas_cnpj ON fato_empresas(cnpj);\")\n",
    "\n",
    "conn_gold.execute(\"CREATE INDEX idx_dim_cnae_codigo ON dim_cnae(codigo);\")\n",
    "conn_gold.execute(\"CREATE INDEX idx_dim_municipio_codigo ON dim_municipio(codigo);\")\n",
    "\n",
    "# Fechar a conexão\n",
    "conn_gold.close()"
   ]
  }
 ],
 "metadata": {
  "kernelspec": {
   "display_name": "Python 3",
   "language": "python",
   "name": "python3"
  },
  "language_info": {
   "codemirror_mode": {
    "name": "ipython",
    "version": 3
   },
   "file_extension": ".py",
   "mimetype": "text/x-python",
   "name": "python",
   "nbconvert_exporter": "python",
   "pygments_lexer": "ipython3",
   "version": "3.11.5"
  }
 },
 "nbformat": 4,
 "nbformat_minor": 5
}
